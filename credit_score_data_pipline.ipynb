{
 "cells": [
  {
   "cell_type": "code",
   "execution_count": 1,
   "id": "b5140f02",
   "metadata": {},
   "outputs": [],
   "source": [
    "import pandas as pd\n",
    "from sklearn.pipeline import Pipeline\n",
    "from sklearn.compose import ColumnTransformer\n",
    "from sklearn.preprocessing import MinMaxScaler,OneHotEncoder\n",
    "from sklearn.impute import SimpleImputer\n",
    "from sklearn.svm import SVC\n",
    "from sklearn.model_selection import train_test_split\n",
    "from sklearn.naive_bayes import GaussianNB\n",
    "from sklearn.feature_selection import SelectKBest,chi2\n",
    "from sklearn.ensemble import RandomForestClassifier\n",
    "from sklearn.neighbors import KNeighborsClassifier\n",
    "import xgboost as xgb\n",
    "from sklearn.tree import DecisionTreeClassifier"
   ]
  },
  {
   "cell_type": "code",
   "execution_count": 2,
   "id": "79027d6b",
   "metadata": {},
   "outputs": [],
   "source": [
    "df=pd.read_csv('../../../Downloads/Credit_Score_Data/Credit_Score_Data/train.csv')"
   ]
  },
  {
   "cell_type": "code",
   "execution_count": 3,
   "id": "661eee32",
   "metadata": {},
   "outputs": [
    {
     "data": {
      "text/html": [
       "<div>\n",
       "<style scoped>\n",
       "    .dataframe tbody tr th:only-of-type {\n",
       "        vertical-align: middle;\n",
       "    }\n",
       "\n",
       "    .dataframe tbody tr th {\n",
       "        vertical-align: top;\n",
       "    }\n",
       "\n",
       "    .dataframe thead th {\n",
       "        text-align: right;\n",
       "    }\n",
       "</style>\n",
       "<table border=\"1\" class=\"dataframe\">\n",
       "  <thead>\n",
       "    <tr style=\"text-align: right;\">\n",
       "      <th></th>\n",
       "      <th>ID</th>\n",
       "      <th>Customer_ID</th>\n",
       "      <th>Month</th>\n",
       "      <th>Name</th>\n",
       "      <th>Age</th>\n",
       "      <th>SSN</th>\n",
       "      <th>Occupation</th>\n",
       "      <th>Annual_Income</th>\n",
       "      <th>Monthly_Inhand_Salary</th>\n",
       "      <th>Num_Bank_Accounts</th>\n",
       "      <th>...</th>\n",
       "      <th>Credit_Mix</th>\n",
       "      <th>Outstanding_Debt</th>\n",
       "      <th>Credit_Utilization_Ratio</th>\n",
       "      <th>Credit_History_Age</th>\n",
       "      <th>Payment_of_Min_Amount</th>\n",
       "      <th>Total_EMI_per_month</th>\n",
       "      <th>Amount_invested_monthly</th>\n",
       "      <th>Payment_Behaviour</th>\n",
       "      <th>Monthly_Balance</th>\n",
       "      <th>Credit_Score</th>\n",
       "    </tr>\n",
       "  </thead>\n",
       "  <tbody>\n",
       "    <tr>\n",
       "      <th>0</th>\n",
       "      <td>5634</td>\n",
       "      <td>3392</td>\n",
       "      <td>1</td>\n",
       "      <td>Aaron Maashoh</td>\n",
       "      <td>23.0</td>\n",
       "      <td>821000265.0</td>\n",
       "      <td>Scientist</td>\n",
       "      <td>19114.12</td>\n",
       "      <td>1824.843333</td>\n",
       "      <td>3.0</td>\n",
       "      <td>...</td>\n",
       "      <td>Good</td>\n",
       "      <td>809.98</td>\n",
       "      <td>26.822620</td>\n",
       "      <td>265.0</td>\n",
       "      <td>No</td>\n",
       "      <td>49.574949</td>\n",
       "      <td>21.46538</td>\n",
       "      <td>High_spent_Small_value_payments</td>\n",
       "      <td>312.494089</td>\n",
       "      <td>Good</td>\n",
       "    </tr>\n",
       "    <tr>\n",
       "      <th>1</th>\n",
       "      <td>5635</td>\n",
       "      <td>3392</td>\n",
       "      <td>2</td>\n",
       "      <td>Aaron Maashoh</td>\n",
       "      <td>23.0</td>\n",
       "      <td>821000265.0</td>\n",
       "      <td>Scientist</td>\n",
       "      <td>19114.12</td>\n",
       "      <td>1824.843333</td>\n",
       "      <td>3.0</td>\n",
       "      <td>...</td>\n",
       "      <td>Good</td>\n",
       "      <td>809.98</td>\n",
       "      <td>31.944960</td>\n",
       "      <td>266.0</td>\n",
       "      <td>No</td>\n",
       "      <td>49.574949</td>\n",
       "      <td>21.46538</td>\n",
       "      <td>Low_spent_Large_value_payments</td>\n",
       "      <td>284.629162</td>\n",
       "      <td>Good</td>\n",
       "    </tr>\n",
       "    <tr>\n",
       "      <th>2</th>\n",
       "      <td>5636</td>\n",
       "      <td>3392</td>\n",
       "      <td>3</td>\n",
       "      <td>Aaron Maashoh</td>\n",
       "      <td>23.0</td>\n",
       "      <td>821000265.0</td>\n",
       "      <td>Scientist</td>\n",
       "      <td>19114.12</td>\n",
       "      <td>1824.843333</td>\n",
       "      <td>3.0</td>\n",
       "      <td>...</td>\n",
       "      <td>Good</td>\n",
       "      <td>809.98</td>\n",
       "      <td>28.609352</td>\n",
       "      <td>267.0</td>\n",
       "      <td>No</td>\n",
       "      <td>49.574949</td>\n",
       "      <td>21.46538</td>\n",
       "      <td>Low_spent_Medium_value_payments</td>\n",
       "      <td>331.209863</td>\n",
       "      <td>Good</td>\n",
       "    </tr>\n",
       "    <tr>\n",
       "      <th>3</th>\n",
       "      <td>5637</td>\n",
       "      <td>3392</td>\n",
       "      <td>4</td>\n",
       "      <td>Aaron Maashoh</td>\n",
       "      <td>23.0</td>\n",
       "      <td>821000265.0</td>\n",
       "      <td>Scientist</td>\n",
       "      <td>19114.12</td>\n",
       "      <td>1824.843333</td>\n",
       "      <td>3.0</td>\n",
       "      <td>...</td>\n",
       "      <td>Good</td>\n",
       "      <td>809.98</td>\n",
       "      <td>31.377862</td>\n",
       "      <td>268.0</td>\n",
       "      <td>No</td>\n",
       "      <td>49.574949</td>\n",
       "      <td>21.46538</td>\n",
       "      <td>Low_spent_Small_value_payments</td>\n",
       "      <td>223.451310</td>\n",
       "      <td>Good</td>\n",
       "    </tr>\n",
       "    <tr>\n",
       "      <th>4</th>\n",
       "      <td>5638</td>\n",
       "      <td>3392</td>\n",
       "      <td>5</td>\n",
       "      <td>Aaron Maashoh</td>\n",
       "      <td>23.0</td>\n",
       "      <td>821000265.0</td>\n",
       "      <td>Scientist</td>\n",
       "      <td>19114.12</td>\n",
       "      <td>1824.843333</td>\n",
       "      <td>3.0</td>\n",
       "      <td>...</td>\n",
       "      <td>Good</td>\n",
       "      <td>809.98</td>\n",
       "      <td>24.797347</td>\n",
       "      <td>269.0</td>\n",
       "      <td>No</td>\n",
       "      <td>49.574949</td>\n",
       "      <td>21.46538</td>\n",
       "      <td>High_spent_Medium_value_payments</td>\n",
       "      <td>341.489231</td>\n",
       "      <td>Good</td>\n",
       "    </tr>\n",
       "  </tbody>\n",
       "</table>\n",
       "<p>5 rows × 28 columns</p>\n",
       "</div>"
      ],
      "text/plain": [
       "     ID  Customer_ID  Month           Name   Age          SSN Occupation  \\\n",
       "0  5634         3392      1  Aaron Maashoh  23.0  821000265.0  Scientist   \n",
       "1  5635         3392      2  Aaron Maashoh  23.0  821000265.0  Scientist   \n",
       "2  5636         3392      3  Aaron Maashoh  23.0  821000265.0  Scientist   \n",
       "3  5637         3392      4  Aaron Maashoh  23.0  821000265.0  Scientist   \n",
       "4  5638         3392      5  Aaron Maashoh  23.0  821000265.0  Scientist   \n",
       "\n",
       "   Annual_Income  Monthly_Inhand_Salary  Num_Bank_Accounts  ...  Credit_Mix  \\\n",
       "0       19114.12            1824.843333                3.0  ...        Good   \n",
       "1       19114.12            1824.843333                3.0  ...        Good   \n",
       "2       19114.12            1824.843333                3.0  ...        Good   \n",
       "3       19114.12            1824.843333                3.0  ...        Good   \n",
       "4       19114.12            1824.843333                3.0  ...        Good   \n",
       "\n",
       "   Outstanding_Debt  Credit_Utilization_Ratio Credit_History_Age  \\\n",
       "0            809.98                 26.822620              265.0   \n",
       "1            809.98                 31.944960              266.0   \n",
       "2            809.98                 28.609352              267.0   \n",
       "3            809.98                 31.377862              268.0   \n",
       "4            809.98                 24.797347              269.0   \n",
       "\n",
       "   Payment_of_Min_Amount  Total_EMI_per_month  Amount_invested_monthly  \\\n",
       "0                     No            49.574949                 21.46538   \n",
       "1                     No            49.574949                 21.46538   \n",
       "2                     No            49.574949                 21.46538   \n",
       "3                     No            49.574949                 21.46538   \n",
       "4                     No            49.574949                 21.46538   \n",
       "\n",
       "                  Payment_Behaviour Monthly_Balance  Credit_Score  \n",
       "0   High_spent_Small_value_payments      312.494089          Good  \n",
       "1    Low_spent_Large_value_payments      284.629162          Good  \n",
       "2   Low_spent_Medium_value_payments      331.209863          Good  \n",
       "3    Low_spent_Small_value_payments      223.451310          Good  \n",
       "4  High_spent_Medium_value_payments      341.489231          Good  \n",
       "\n",
       "[5 rows x 28 columns]"
      ]
     },
     "execution_count": 3,
     "metadata": {},
     "output_type": "execute_result"
    }
   ],
   "source": [
    "df.head()"
   ]
  },
  {
   "cell_type": "code",
   "execution_count": 4,
   "id": "d9e200ef",
   "metadata": {},
   "outputs": [
    {
     "data": {
      "text/plain": [
       "(100000, 28)"
      ]
     },
     "execution_count": 4,
     "metadata": {},
     "output_type": "execute_result"
    }
   ],
   "source": [
    "df.shape"
   ]
  },
  {
   "cell_type": "code",
   "execution_count": 5,
   "id": "c45ba117",
   "metadata": {},
   "outputs": [
    {
     "data": {
      "text/plain": [
       "Index(['ID', 'Customer_ID', 'Month', 'Name', 'Age', 'SSN', 'Occupation',\n",
       "       'Annual_Income', 'Monthly_Inhand_Salary', 'Num_Bank_Accounts',\n",
       "       'Num_Credit_Card', 'Interest_Rate', 'Num_of_Loan', 'Type_of_Loan',\n",
       "       'Delay_from_due_date', 'Num_of_Delayed_Payment', 'Changed_Credit_Limit',\n",
       "       'Num_Credit_Inquiries', 'Credit_Mix', 'Outstanding_Debt',\n",
       "       'Credit_Utilization_Ratio', 'Credit_History_Age',\n",
       "       'Payment_of_Min_Amount', 'Total_EMI_per_month',\n",
       "       'Amount_invested_monthly', 'Payment_Behaviour', 'Monthly_Balance',\n",
       "       'Credit_Score'],\n",
       "      dtype='object')"
      ]
     },
     "execution_count": 5,
     "metadata": {},
     "output_type": "execute_result"
    }
   ],
   "source": [
    "df.columns"
   ]
  },
  {
   "cell_type": "code",
   "execution_count": 6,
   "id": "d9a8e1cc",
   "metadata": {},
   "outputs": [
    {
     "name": "stdout",
     "output_type": "stream",
     "text": [
      "<class 'pandas.core.frame.DataFrame'>\n",
      "RangeIndex: 100000 entries, 0 to 99999\n",
      "Data columns (total 28 columns):\n",
      " #   Column                    Non-Null Count   Dtype  \n",
      "---  ------                    --------------   -----  \n",
      " 0   ID                        100000 non-null  int64  \n",
      " 1   Customer_ID               100000 non-null  int64  \n",
      " 2   Month                     100000 non-null  int64  \n",
      " 3   Name                      100000 non-null  object \n",
      " 4   Age                       100000 non-null  float64\n",
      " 5   SSN                       100000 non-null  float64\n",
      " 6   Occupation                100000 non-null  object \n",
      " 7   Annual_Income             100000 non-null  float64\n",
      " 8   Monthly_Inhand_Salary     100000 non-null  float64\n",
      " 9   Num_Bank_Accounts         100000 non-null  float64\n",
      " 10  Num_Credit_Card           100000 non-null  float64\n",
      " 11  Interest_Rate             100000 non-null  float64\n",
      " 12  Num_of_Loan               100000 non-null  float64\n",
      " 13  Type_of_Loan              100000 non-null  object \n",
      " 14  Delay_from_due_date       100000 non-null  float64\n",
      " 15  Num_of_Delayed_Payment    100000 non-null  float64\n",
      " 16  Changed_Credit_Limit      100000 non-null  float64\n",
      " 17  Num_Credit_Inquiries      100000 non-null  float64\n",
      " 18  Credit_Mix                100000 non-null  object \n",
      " 19  Outstanding_Debt          100000 non-null  float64\n",
      " 20  Credit_Utilization_Ratio  100000 non-null  float64\n",
      " 21  Credit_History_Age        100000 non-null  float64\n",
      " 22  Payment_of_Min_Amount     100000 non-null  object \n",
      " 23  Total_EMI_per_month       100000 non-null  float64\n",
      " 24  Amount_invested_monthly   100000 non-null  float64\n",
      " 25  Payment_Behaviour         100000 non-null  object \n",
      " 26  Monthly_Balance           100000 non-null  float64\n",
      " 27  Credit_Score              100000 non-null  object \n",
      "dtypes: float64(18), int64(3), object(7)\n",
      "memory usage: 21.4+ MB\n"
     ]
    }
   ],
   "source": [
    "df.info()"
   ]
  },
  {
   "cell_type": "code",
   "execution_count": 7,
   "id": "5c4c3905",
   "metadata": {},
   "outputs": [
    {
     "data": {
      "text/plain": [
       "ID                          0\n",
       "Customer_ID                 0\n",
       "Month                       0\n",
       "Name                        0\n",
       "Age                         0\n",
       "SSN                         0\n",
       "Occupation                  0\n",
       "Annual_Income               0\n",
       "Monthly_Inhand_Salary       0\n",
       "Num_Bank_Accounts           0\n",
       "Num_Credit_Card             0\n",
       "Interest_Rate               0\n",
       "Num_of_Loan                 0\n",
       "Type_of_Loan                0\n",
       "Delay_from_due_date         0\n",
       "Num_of_Delayed_Payment      0\n",
       "Changed_Credit_Limit        0\n",
       "Num_Credit_Inquiries        0\n",
       "Credit_Mix                  0\n",
       "Outstanding_Debt            0\n",
       "Credit_Utilization_Ratio    0\n",
       "Credit_History_Age          0\n",
       "Payment_of_Min_Amount       0\n",
       "Total_EMI_per_month         0\n",
       "Amount_invested_monthly     0\n",
       "Payment_Behaviour           0\n",
       "Monthly_Balance             0\n",
       "Credit_Score                0\n",
       "dtype: int64"
      ]
     },
     "execution_count": 7,
     "metadata": {},
     "output_type": "execute_result"
    }
   ],
   "source": [
    "df.isna().sum()"
   ]
  },
  {
   "cell_type": "code",
   "execution_count": 8,
   "id": "3766485c",
   "metadata": {},
   "outputs": [],
   "source": [
    "#drop the non-required columns\n",
    "df.drop(columns=['Customer_ID','Name','ID'],inplace=True)\n",
    "\n",
    "X_train,X_test,y_train,y_test = train_test_split(df.drop(columns=['Credit_Score']), df['Credit_Score'], test_size=0.2, random_state=42)"
   ]
  },
  {
   "cell_type": "code",
   "execution_count": 9,
   "id": "22f14a3e",
   "metadata": {},
   "outputs": [
    {
     "data": {
      "text/plain": [
       "['Month',\n",
       " 'Age',\n",
       " 'SSN',\n",
       " 'Annual_Income',\n",
       " 'Monthly_Inhand_Salary',\n",
       " 'Num_Bank_Accounts',\n",
       " 'Num_Credit_Card',\n",
       " 'Interest_Rate',\n",
       " 'Num_of_Loan',\n",
       " 'Delay_from_due_date',\n",
       " 'Num_of_Delayed_Payment',\n",
       " 'Changed_Credit_Limit',\n",
       " 'Num_Credit_Inquiries',\n",
       " 'Outstanding_Debt',\n",
       " 'Credit_Utilization_Ratio',\n",
       " 'Credit_History_Age',\n",
       " 'Total_EMI_per_month',\n",
       " 'Amount_invested_monthly',\n",
       " 'Monthly_Balance']"
      ]
     },
     "execution_count": 9,
     "metadata": {},
     "output_type": "execute_result"
    }
   ],
   "source": [
    "numeric_features=list(df.select_dtypes(exclude='object'))\n",
    "numeric_features"
   ]
  },
  {
   "cell_type": "code",
   "execution_count": 10,
   "id": "4eb967e3",
   "metadata": {},
   "outputs": [
    {
     "data": {
      "text/plain": [
       "['Occupation',\n",
       " 'Type_of_Loan',\n",
       " 'Credit_Mix',\n",
       " 'Payment_of_Min_Amount',\n",
       " 'Payment_Behaviour']"
      ]
     },
     "execution_count": 10,
     "metadata": {},
     "output_type": "execute_result"
    }
   ],
   "source": [
    "cat_features=list(df.select_dtypes(include='object'))\n",
    "#cat_features.remove('Name')\n",
    "cat_features.remove('Credit_Score')\n",
    "cat_features"
   ]
  },
  {
   "cell_type": "code",
   "execution_count": 11,
   "id": "4518ebd1",
   "metadata": {},
   "outputs": [
    {
     "data": {
      "text/plain": [
       "Standard    53174\n",
       "Poor        28998\n",
       "Good        17828\n",
       "Name: Credit_Score, dtype: int64"
      ]
     },
     "execution_count": 11,
     "metadata": {},
     "output_type": "execute_result"
    }
   ],
   "source": [
    "df['Credit_Score'].value_counts()"
   ]
  },
  {
   "cell_type": "code",
   "execution_count": 12,
   "id": "cbe21824",
   "metadata": {},
   "outputs": [],
   "source": [
    "df['Credit_Score'] = df['Credit_Score'].map({'Poor':0 , 'Standard':1,'Good':2})"
   ]
  },
  {
   "cell_type": "code",
   "execution_count": 13,
   "id": "0d8e84e8",
   "metadata": {},
   "outputs": [],
   "source": [
    "#numeric_features.append('Credit_Score')"
   ]
  },
  {
   "cell_type": "code",
   "execution_count": 14,
   "id": "13fb798e",
   "metadata": {},
   "outputs": [],
   "source": [
    "num_transformer= Pipeline([('imputer_num',SimpleImputer(strategy='median')),\n",
    "                           ('scalar',MinMaxScaler())])\n",
    "cat_transformer= Pipeline([('imputer_cat',SimpleImputer(strategy='most_frequent')),\n",
    "                           ('encoder',OneHotEncoder(handle_unknown='ignore',sparse=False))])"
   ]
  },
  {
   "cell_type": "code",
   "execution_count": 15,
   "id": "e134f3da",
   "metadata": {},
   "outputs": [],
   "source": [
    "preprocessor=ColumnTransformer([('numeric_pipe',num_transformer,numeric_features),\n",
    "                               ('cot_pipe',cat_transformer,cat_features)])"
   ]
  },
  {
   "cell_type": "code",
   "execution_count": 16,
   "id": "07653ece",
   "metadata": {},
   "outputs": [],
   "source": [
    "select_feature=SelectKBest(score_func=chi2,k=20)"
   ]
  },
  {
   "cell_type": "markdown",
   "id": "e099f8f3",
   "metadata": {},
   "source": [
    "# Build model with randomforest"
   ]
  },
  {
   "cell_type": "code",
   "execution_count": 17,
   "id": "d450bbce",
   "metadata": {},
   "outputs": [],
   "source": [
    "pipe_rf= Pipeline([('preprocess_pipe',preprocessor),\n",
    "                      ('features',select_feature),\n",
    "                     ('model_rf',RandomForestClassifier())])"
   ]
  },
  {
   "cell_type": "code",
   "execution_count": 18,
   "id": "0c4552a3",
   "metadata": {},
   "outputs": [
    {
     "data": {
      "text/plain": [
       "Pipeline(steps=[('preprocess_pipe',\n",
       "                 ColumnTransformer(transformers=[('numeric_pipe',\n",
       "                                                  Pipeline(steps=[('imputer_num',\n",
       "                                                                   SimpleImputer(strategy='median')),\n",
       "                                                                  ('scalar',\n",
       "                                                                   MinMaxScaler())]),\n",
       "                                                  ['Month', 'Age', 'SSN',\n",
       "                                                   'Annual_Income',\n",
       "                                                   'Monthly_Inhand_Salary',\n",
       "                                                   'Num_Bank_Accounts',\n",
       "                                                   'Num_Credit_Card',\n",
       "                                                   'Interest_Rate',\n",
       "                                                   'Num_of_Loan',\n",
       "                                                   'Delay_from_due_date',\n",
       "                                                   'Num_of_Delayed_Payment...\n",
       "                                                 ('cot_pipe',\n",
       "                                                  Pipeline(steps=[('imputer_cat',\n",
       "                                                                   SimpleImputer(strategy='most_frequent')),\n",
       "                                                                  ('encoder',\n",
       "                                                                   OneHotEncoder(handle_unknown='ignore',\n",
       "                                                                                 sparse=False))]),\n",
       "                                                  ['Occupation', 'Type_of_Loan',\n",
       "                                                   'Credit_Mix',\n",
       "                                                   'Payment_of_Min_Amount',\n",
       "                                                   'Payment_Behaviour'])])),\n",
       "                ('features',\n",
       "                 SelectKBest(k=20,\n",
       "                             score_func=<function chi2 at 0x0000021AC079F8B0>)),\n",
       "                ('model_rf', RandomForestClassifier())])"
      ]
     },
     "execution_count": 18,
     "metadata": {},
     "output_type": "execute_result"
    }
   ],
   "source": [
    "pipe_rf.fit(X_train,y_train)"
   ]
  },
  {
   "cell_type": "code",
   "execution_count": 19,
   "id": "5d3f7230",
   "metadata": {},
   "outputs": [
    {
     "data": {
      "text/plain": [
       "0.999925"
      ]
     },
     "execution_count": 19,
     "metadata": {},
     "output_type": "execute_result"
    }
   ],
   "source": [
    "pipe_rf.score(X_train,y_train)"
   ]
  },
  {
   "cell_type": "code",
   "execution_count": 20,
   "id": "b4e4d300",
   "metadata": {},
   "outputs": [
    {
     "data": {
      "text/plain": [
       "0.81345"
      ]
     },
     "execution_count": 20,
     "metadata": {},
     "output_type": "execute_result"
    }
   ],
   "source": [
    "pipe_rf.score(X_test,y_test)"
   ]
  },
  {
   "cell_type": "markdown",
   "id": "fb3ba1fb",
   "metadata": {},
   "source": [
    "# Build model with SVM"
   ]
  },
  {
   "cell_type": "code",
   "execution_count": 21,
   "id": "53811454",
   "metadata": {},
   "outputs": [],
   "source": [
    "pipe_svm= Pipeline([('preprocess_pipe',preprocessor),\n",
    "                      ('features',select_feature),\n",
    "                     ('model_svm',RandomForestClassifier())])"
   ]
  },
  {
   "cell_type": "code",
   "execution_count": 22,
   "id": "1f8ff994",
   "metadata": {},
   "outputs": [
    {
     "data": {
      "text/plain": [
       "Pipeline(steps=[('preprocess_pipe',\n",
       "                 ColumnTransformer(transformers=[('numeric_pipe',\n",
       "                                                  Pipeline(steps=[('imputer_num',\n",
       "                                                                   SimpleImputer(strategy='median')),\n",
       "                                                                  ('scalar',\n",
       "                                                                   MinMaxScaler())]),\n",
       "                                                  ['Month', 'Age', 'SSN',\n",
       "                                                   'Annual_Income',\n",
       "                                                   'Monthly_Inhand_Salary',\n",
       "                                                   'Num_Bank_Accounts',\n",
       "                                                   'Num_Credit_Card',\n",
       "                                                   'Interest_Rate',\n",
       "                                                   'Num_of_Loan',\n",
       "                                                   'Delay_from_due_date',\n",
       "                                                   'Num_of_Delayed_Payment...\n",
       "                                                 ('cot_pipe',\n",
       "                                                  Pipeline(steps=[('imputer_cat',\n",
       "                                                                   SimpleImputer(strategy='most_frequent')),\n",
       "                                                                  ('encoder',\n",
       "                                                                   OneHotEncoder(handle_unknown='ignore',\n",
       "                                                                                 sparse=False))]),\n",
       "                                                  ['Occupation', 'Type_of_Loan',\n",
       "                                                   'Credit_Mix',\n",
       "                                                   'Payment_of_Min_Amount',\n",
       "                                                   'Payment_Behaviour'])])),\n",
       "                ('features',\n",
       "                 SelectKBest(k=20,\n",
       "                             score_func=<function chi2 at 0x0000021AC079F8B0>)),\n",
       "                ('model_svm', RandomForestClassifier())])"
      ]
     },
     "execution_count": 22,
     "metadata": {},
     "output_type": "execute_result"
    }
   ],
   "source": [
    "pipe_svm.fit(X_train,y_train)"
   ]
  },
  {
   "cell_type": "code",
   "execution_count": 23,
   "id": "bc41943e",
   "metadata": {},
   "outputs": [
    {
     "data": {
      "text/plain": [
       "0.9998875"
      ]
     },
     "execution_count": 23,
     "metadata": {},
     "output_type": "execute_result"
    }
   ],
   "source": [
    "pipe_svm.score(X_train,y_train)"
   ]
  },
  {
   "cell_type": "code",
   "execution_count": 24,
   "id": "fee07eb3",
   "metadata": {},
   "outputs": [
    {
     "data": {
      "text/plain": [
       "0.813"
      ]
     },
     "execution_count": 24,
     "metadata": {},
     "output_type": "execute_result"
    }
   ],
   "source": [
    "pipe_svm.score(X_test,y_test)"
   ]
  },
  {
   "cell_type": "markdown",
   "id": "51899613",
   "metadata": {},
   "source": [
    "# Build model with KNN"
   ]
  },
  {
   "cell_type": "code",
   "execution_count": 25,
   "id": "d08a359f",
   "metadata": {},
   "outputs": [],
   "source": [
    "pipe_knn= Pipeline([('preprocess_pipe',preprocessor),\n",
    "                      ('features',select_feature),\n",
    "                     ('model_knn',KNeighborsClassifier())])"
   ]
  },
  {
   "cell_type": "code",
   "execution_count": 26,
   "id": "1c4aa888",
   "metadata": {},
   "outputs": [
    {
     "data": {
      "text/plain": [
       "Pipeline(steps=[('preprocess_pipe',\n",
       "                 ColumnTransformer(transformers=[('numeric_pipe',\n",
       "                                                  Pipeline(steps=[('imputer_num',\n",
       "                                                                   SimpleImputer(strategy='median')),\n",
       "                                                                  ('scalar',\n",
       "                                                                   MinMaxScaler())]),\n",
       "                                                  ['Month', 'Age', 'SSN',\n",
       "                                                   'Annual_Income',\n",
       "                                                   'Monthly_Inhand_Salary',\n",
       "                                                   'Num_Bank_Accounts',\n",
       "                                                   'Num_Credit_Card',\n",
       "                                                   'Interest_Rate',\n",
       "                                                   'Num_of_Loan',\n",
       "                                                   'Delay_from_due_date',\n",
       "                                                   'Num_of_Delayed_Payment...\n",
       "                                                 ('cot_pipe',\n",
       "                                                  Pipeline(steps=[('imputer_cat',\n",
       "                                                                   SimpleImputer(strategy='most_frequent')),\n",
       "                                                                  ('encoder',\n",
       "                                                                   OneHotEncoder(handle_unknown='ignore',\n",
       "                                                                                 sparse=False))]),\n",
       "                                                  ['Occupation', 'Type_of_Loan',\n",
       "                                                   'Credit_Mix',\n",
       "                                                   'Payment_of_Min_Amount',\n",
       "                                                   'Payment_Behaviour'])])),\n",
       "                ('features',\n",
       "                 SelectKBest(k=20,\n",
       "                             score_func=<function chi2 at 0x0000021AC079F8B0>)),\n",
       "                ('model_knn', KNeighborsClassifier())])"
      ]
     },
     "execution_count": 26,
     "metadata": {},
     "output_type": "execute_result"
    }
   ],
   "source": [
    "pipe_knn.fit(X_train,y_train)"
   ]
  },
  {
   "cell_type": "code",
   "execution_count": 27,
   "id": "75422fcc",
   "metadata": {},
   "outputs": [
    {
     "name": "stderr",
     "output_type": "stream",
     "text": [
      "C:\\Users\\ghada\\anaconda3\\lib\\site-packages\\sklearn\\neighbors\\_classification.py:228: FutureWarning: Unlike other reduction functions (e.g. `skew`, `kurtosis`), the default behavior of `mode` typically preserves the axis it acts along. In SciPy 1.11.0, this behavior will change: the default value of `keepdims` will become False, the `axis` over which the statistic is taken will be eliminated, and the value None will no longer be accepted. Set `keepdims` to True or False to avoid this warning.\n",
      "  mode, _ = stats.mode(_y[neigh_ind, k], axis=1)\n"
     ]
    },
    {
     "data": {
      "text/plain": [
       "0.8155625"
      ]
     },
     "execution_count": 27,
     "metadata": {},
     "output_type": "execute_result"
    }
   ],
   "source": [
    "pipe_knn.score(X_train,y_train)"
   ]
  },
  {
   "cell_type": "code",
   "execution_count": 28,
   "id": "3904cbea",
   "metadata": {},
   "outputs": [
    {
     "name": "stderr",
     "output_type": "stream",
     "text": [
      "C:\\Users\\ghada\\anaconda3\\lib\\site-packages\\sklearn\\neighbors\\_classification.py:228: FutureWarning: Unlike other reduction functions (e.g. `skew`, `kurtosis`), the default behavior of `mode` typically preserves the axis it acts along. In SciPy 1.11.0, this behavior will change: the default value of `keepdims` will become False, the `axis` over which the statistic is taken will be eliminated, and the value None will no longer be accepted. Set `keepdims` to True or False to avoid this warning.\n",
      "  mode, _ = stats.mode(_y[neigh_ind, k], axis=1)\n"
     ]
    },
    {
     "data": {
      "text/plain": [
       "0.72695"
      ]
     },
     "execution_count": 28,
     "metadata": {},
     "output_type": "execute_result"
    }
   ],
   "source": [
    "pipe_knn.score(X_test,y_test)"
   ]
  },
  {
   "cell_type": "markdown",
   "id": "293e2bb4",
   "metadata": {},
   "source": [
    "# Build model with Desition Tree"
   ]
  },
  {
   "cell_type": "code",
   "execution_count": 29,
   "id": "7f71e1e4",
   "metadata": {},
   "outputs": [],
   "source": [
    "pipe_dct= Pipeline([('preprocess_pipe',preprocessor),\n",
    "                      ('features',select_feature),\n",
    "                     ('model_dt',DecisionTreeClassifier())])"
   ]
  },
  {
   "cell_type": "code",
   "execution_count": 30,
   "id": "ffae667d",
   "metadata": {},
   "outputs": [
    {
     "data": {
      "text/plain": [
       "Pipeline(steps=[('preprocess_pipe',\n",
       "                 ColumnTransformer(transformers=[('numeric_pipe',\n",
       "                                                  Pipeline(steps=[('imputer_num',\n",
       "                                                                   SimpleImputer(strategy='median')),\n",
       "                                                                  ('scalar',\n",
       "                                                                   MinMaxScaler())]),\n",
       "                                                  ['Month', 'Age', 'SSN',\n",
       "                                                   'Annual_Income',\n",
       "                                                   'Monthly_Inhand_Salary',\n",
       "                                                   'Num_Bank_Accounts',\n",
       "                                                   'Num_Credit_Card',\n",
       "                                                   'Interest_Rate',\n",
       "                                                   'Num_of_Loan',\n",
       "                                                   'Delay_from_due_date',\n",
       "                                                   'Num_of_Delayed_Payment...\n",
       "                                                 ('cot_pipe',\n",
       "                                                  Pipeline(steps=[('imputer_cat',\n",
       "                                                                   SimpleImputer(strategy='most_frequent')),\n",
       "                                                                  ('encoder',\n",
       "                                                                   OneHotEncoder(handle_unknown='ignore',\n",
       "                                                                                 sparse=False))]),\n",
       "                                                  ['Occupation', 'Type_of_Loan',\n",
       "                                                   'Credit_Mix',\n",
       "                                                   'Payment_of_Min_Amount',\n",
       "                                                   'Payment_Behaviour'])])),\n",
       "                ('features',\n",
       "                 SelectKBest(k=20,\n",
       "                             score_func=<function chi2 at 0x0000021AC079F8B0>)),\n",
       "                ('model_dt', DecisionTreeClassifier())])"
      ]
     },
     "execution_count": 30,
     "metadata": {},
     "output_type": "execute_result"
    }
   ],
   "source": [
    "pipe_dct.fit(X_train,y_train)"
   ]
  },
  {
   "cell_type": "code",
   "execution_count": 31,
   "id": "8be9d5b6",
   "metadata": {},
   "outputs": [
    {
     "data": {
      "text/plain": [
       "0.9999375"
      ]
     },
     "execution_count": 31,
     "metadata": {},
     "output_type": "execute_result"
    }
   ],
   "source": [
    "pipe_dct.score(X_train,y_train)"
   ]
  },
  {
   "cell_type": "code",
   "execution_count": 32,
   "id": "5d35d78f",
   "metadata": {},
   "outputs": [
    {
     "data": {
      "text/plain": [
       "0.759"
      ]
     },
     "execution_count": 32,
     "metadata": {},
     "output_type": "execute_result"
    }
   ],
   "source": [
    "pipe_dct.score(X_test,y_test)"
   ]
  },
  {
   "cell_type": "code",
   "execution_count": 34,
   "id": "3d566cf9",
   "metadata": {},
   "outputs": [],
   "source": [
    "import pickle\n",
    "pickle.dump(pipe_rf,open('pipe.pkl','wb'))"
   ]
  },
  {
   "cell_type": "code",
   "execution_count": null,
   "id": "e847c234",
   "metadata": {},
   "outputs": [],
   "source": []
  }
 ],
 "metadata": {
  "kernelspec": {
   "display_name": "Python 3 (ipykernel)",
   "language": "python",
   "name": "python3"
  },
  "language_info": {
   "codemirror_mode": {
    "name": "ipython",
    "version": 3
   },
   "file_extension": ".py",
   "mimetype": "text/x-python",
   "name": "python",
   "nbconvert_exporter": "python",
   "pygments_lexer": "ipython3",
   "version": "3.9.13"
  }
 },
 "nbformat": 4,
 "nbformat_minor": 5
}
